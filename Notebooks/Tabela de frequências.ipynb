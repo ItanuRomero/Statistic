{
 "cells": [
  {
   "cell_type": "markdown",
   "id": "c14147cc",
   "metadata": {},
   "source": [
    "# Tabela de Frequências\n",
    "- Construir a tabela de frequências por classes e histograma da variável \"Idade\".\n",
    "- Construir a tabela de frequências e um gráfico apropriado para a variável \"Região de Procedência\".\n",
    "- Verificar se existe tendência de associação entre as variáveis \"Idade\" e \"Salário\""
   ]
  },
  {
   "cell_type": "code",
   "execution_count": 42,
   "id": "a194cc00",
   "metadata": {},
   "outputs": [],
   "source": [
    "#importantdo a base de dados\n",
    "idades = ['26', '32', '36', '20', '40', '28', '41', '43', \n",
    "          '34', '23', '33', '27', '37', '44', '30', '38', \n",
    "          '31', '39', '25', '37', '30', '34', '41', '53', \n",
    "          '54', '48', '50', '35', '38', '59', '51', '47', \n",
    "          '46', '56', '45', '66']"
   ]
  },
  {
   "cell_type": "code",
   "execution_count": 43,
   "id": "66dc4b48",
   "metadata": {},
   "outputs": [],
   "source": [
    "# Ordenando a lista de idades\n",
    "idades.sort()"
   ]
  },
  {
   "cell_type": "code",
   "execution_count": 44,
   "id": "61e759fc",
   "metadata": {},
   "outputs": [
    {
     "name": "stdout",
     "output_type": "stream",
     "text": [
      "8 46\n"
     ]
    }
   ],
   "source": [
    "# Criando o número de classes\n",
    "import math\n",
    "classes = math.floor(math.sqrt(int(max(idades))))\n",
    "# Amplitude\n",
    "amplitude = int(max(idades)) - int(min(idades))\n",
    "print(classes, amplitude)"
   ]
  },
  {
   "cell_type": "code",
   "execution_count": 48,
   "id": "a060cfb4",
   "metadata": {},
   "outputs": [
    {
     "data": {
      "text/plain": [
       "6"
      ]
     },
     "execution_count": 48,
     "metadata": {},
     "output_type": "execute_result"
    }
   ],
   "source": [
    "#criando a amplitude da classe e arredondando para cima\n",
    "amplitude_da_classe = amplitude / classes\n",
    "math.ceil(amplitude_da_classe)"
   ]
  },
  {
   "cell_type": "code",
   "execution_count": 49,
   "id": "ee717c02",
   "metadata": {},
   "outputs": [],
   "source": [
    "# criando os limites inferiores e superiores\n",
    "limite_inferior_total = int(min(idades))\n",
    "limite_superior_total = int(max(idades))"
   ]
  },
  {
   "cell_type": "code",
   "execution_count": 47,
   "id": "6e0b9f96",
   "metadata": {},
   "outputs": [
    {
     "name": "stdout",
     "output_type": "stream",
     "text": [
      "20 |---- 26\n",
      "26 |---- 32\n",
      "32 |---- 38\n",
      "38 |---- 44\n",
      "44 |---- 50\n",
      "50 |---- 56\n",
      "56 |---- 62\n",
      "62 |---- 68\n"
     ]
    }
   ],
   "source": [
    "# criando os limites de cada classe\n",
    "for class_counter in range(1, classes + 1):\n",
    "    print(20 + (6 * (class_counter - 1)), end=\" |---- \")\n",
    "    print(20 + (6 * class_counter))"
   ]
  },
  {
   "cell_type": "code",
   "execution_count": 32,
   "id": "ba62cecb",
   "metadata": {},
   "outputs": [
    {
     "name": "stdout",
     "output_type": "stream",
     "text": [
      "3\n",
      "6\n",
      "8\n",
      "7\n",
      "5\n",
      "4\n",
      "2\n",
      "1\n"
     ]
    }
   ],
   "source": [
    "# buscando a frequencia absoluta para cada classe\n",
    "absolute_frequency = dict()\n",
    "for class_counter in range(1, classes + 1):\n",
    "    sum_of_frequency = 0\n",
    "    limite_inferior = 20 + (6 * (class_counter - 1))\n",
    "    limite_superior = 20 + (6 * class_counter)\n",
    "    class_name = str(limite_inferior) + \" |---- \" + str(limite_superior)\n",
    "    \n",
    "    for unit_counter in range(limite_inferior, limite_superior):\n",
    "        sum_of_frequency += idades.count(str(unit_counter))\n",
    "    absolute_frequency[class_name] = sum_of_frequency"
   ]
  },
  {
   "cell_type": "code",
   "execution_count": 51,
   "id": "ad548a26",
   "metadata": {},
   "outputs": [
    {
     "name": "stdout",
     "output_type": "stream",
     "text": [
      "0.08\n",
      "0.17\n",
      "0.22\n",
      "0.19\n",
      "0.14\n",
      "0.11\n",
      "0.06\n",
      "0.03\n"
     ]
    }
   ],
   "source": [
    "# frequência relativa para cada classe\n",
    "for key in absolute_frequency:\n",
    "    print(round((absolute_frequency[key] / len(idades)), 2))"
   ]
  },
  {
   "cell_type": "code",
   "execution_count": 53,
   "id": "482b33c5",
   "metadata": {},
   "outputs": [],
   "source": [
    "# inserindo os dados\n",
    "regiao_de_procedencia = ['Interior', 'Capital', 'Capital', \n",
    "                         'Outro', 'Outro', 'Interior', 'Interior', \n",
    "                         'Capital', 'Capital', 'Outro', 'Interior', \n",
    "                         'Capital', 'Outro', 'Outro', 'Interior', 'Outro', \n",
    "                         'Capital', 'Outro', 'Interior', 'Interior', 'Outro', \n",
    "                         'Capital', 'Outro', 'Outro', 'Interior', 'Outro', 'Outro', \n",
    "                         'Interior', 'Interior', 'Capital', 'Outro', 'Interior', 'Capital', \n",
    "                         'Capital', 'Capital', 'Interior']"
   ]
  },
  {
   "cell_type": "code",
   "execution_count": 65,
   "id": "ad8bfe79",
   "metadata": {},
   "outputs": [
    {
     "data": {
      "text/plain": [
       "['Capital',\n",
       " 'Capital',\n",
       " 'Capital',\n",
       " 'Capital',\n",
       " 'Capital',\n",
       " 'Capital',\n",
       " 'Capital',\n",
       " 'Capital',\n",
       " 'Capital',\n",
       " 'Capital',\n",
       " 'Capital',\n",
       " 'Interior',\n",
       " 'Interior',\n",
       " 'Interior',\n",
       " 'Interior',\n",
       " 'Interior',\n",
       " 'Interior',\n",
       " 'Interior',\n",
       " 'Interior',\n",
       " 'Interior',\n",
       " 'Interior',\n",
       " 'Interior',\n",
       " 'Interior',\n",
       " 'Outro',\n",
       " 'Outro',\n",
       " 'Outro',\n",
       " 'Outro',\n",
       " 'Outro',\n",
       " 'Outro',\n",
       " 'Outro',\n",
       " 'Outro',\n",
       " 'Outro',\n",
       " 'Outro',\n",
       " 'Outro',\n",
       " 'Outro',\n",
       " 'Outro']"
      ]
     },
     "execution_count": 65,
     "metadata": {},
     "output_type": "execute_result"
    }
   ],
   "source": [
    "# realizando o \"roll\", organizando os dados em ordem crescente\n",
    "regiao_de_procedencia.sort()\n",
    "regiao_de_procedencia"
   ]
  },
  {
   "cell_type": "code",
   "execution_count": 58,
   "id": "6c5a9412",
   "metadata": {},
   "outputs": [
    {
     "data": {
      "text/plain": [
       "{'Capital', 'Interior', 'Outro'}"
      ]
     },
     "execution_count": 58,
     "metadata": {},
     "output_type": "execute_result"
    }
   ],
   "source": [
    "# mapeando quais valores temos no dataset\n",
    "unique_regions = set(regiao_de_procedencia)\n",
    "unique_regions"
   ]
  },
  {
   "cell_type": "code",
   "execution_count": 61,
   "id": "e050bbe6",
   "metadata": {},
   "outputs": [
    {
     "data": {
      "text/plain": [
       "[13, 12, 11]"
      ]
     },
     "execution_count": 61,
     "metadata": {},
     "output_type": "execute_result"
    }
   ],
   "source": [
    "#frequência absoluta por região\n",
    "absolut_freq = []\n",
    "for region in unique_regions:\n",
    "    absolut_freq.append(regiao_de_procedencia.count(region))\n",
    "absolut_freq"
   ]
  },
  {
   "cell_type": "code",
   "execution_count": 64,
   "id": "a2306560",
   "metadata": {},
   "outputs": [
    {
     "data": {
      "text/plain": [
       "[0.36, 0.33, 0.31]"
      ]
     },
     "execution_count": 64,
     "metadata": {},
     "output_type": "execute_result"
    }
   ],
   "source": [
    "# frequência relativa por região\n",
    "relative_freq = []\n",
    "for freq in absolut_freq:\n",
    "    relative_freq.append(round(freq / len(regiao_de_procedencia), 2))\n",
    "relative_freq"
   ]
  }
 ],
 "metadata": {
  "kernelspec": {
   "display_name": "Python 3 (ipykernel)",
   "language": "python",
   "name": "python3"
  },
  "language_info": {
   "codemirror_mode": {
    "name": "ipython",
    "version": 3
   },
   "file_extension": ".py",
   "mimetype": "text/x-python",
   "name": "python",
   "nbconvert_exporter": "python",
   "pygments_lexer": "ipython3",
   "version": "3.8.6"
  }
 },
 "nbformat": 4,
 "nbformat_minor": 5
}
