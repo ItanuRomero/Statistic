{
 "cells": [
  {
   "cell_type": "markdown",
   "id": "235eca39",
   "metadata": {},
   "source": [
    "# lista:\n",
    "está na pasta listas"
   ]
  },
  {
   "cell_type": "code",
   "execution_count": 2,
   "id": "10596c2e",
   "metadata": {},
   "outputs": [],
   "source": [
    "import pandas as pd\n",
    "import numpy as np"
   ]
  },
  {
   "cell_type": "markdown",
   "id": "ed99fb40",
   "metadata": {},
   "source": [
    "# As idades de uma amostra de fãs em um show de rock estão listadas a seguir. (a) Ordene os dados. (b) Determine a mediana das idades (c) Interprete os resultados no contexto dos dados. "
   ]
  },
  {
   "cell_type": "code",
   "execution_count": 16,
   "id": "c74c853b",
   "metadata": {},
   "outputs": [],
   "source": [
    "idades = pd.Series([24, 27, 19, 21, 18, 23, 21, 20, 19, 33, 30, 29, 21, 18, 24, 26, 38, 19, 35, 34, 33, 30, 21, 27, 30])"
   ]
  },
  {
   "cell_type": "code",
   "execution_count": 37,
   "id": "0be78065",
   "metadata": {},
   "outputs": [
    {
     "data": {
      "text/plain": [
       "array([18, 18, 19, 19, 19, 20, 21, 21, 21, 21, 23, 24, 24, 26, 27, 27, 29,\n",
       "       30, 30, 30, 33, 33, 34, 35, 38], dtype=int64)"
      ]
     },
     "execution_count": 37,
     "metadata": {},
     "output_type": "execute_result"
    }
   ],
   "source": [
    "# ordenando os dados\n",
    "idades = idades.sort_values()\n",
    "idades = pd.Series(idades.tolist())\n",
    "idades.values"
   ]
  },
  {
   "cell_type": "code",
   "execution_count": 36,
   "id": "e00d332b",
   "metadata": {},
   "outputs": [
    {
     "data": {
      "text/plain": [
       "24"
      ]
     },
     "execution_count": 36,
     "metadata": {},
     "output_type": "execute_result"
    }
   ],
   "source": [
    "# mediana usando funcionalidade pronta\n",
    "idades.median()\n",
    "# manual\n",
    "len_of_idades = len(idades)\n",
    "index_mediana = ((len_of_idades + 1) / 2) - 1\n",
    "idades[index_mediana]"
   ]
  },
  {
   "cell_type": "markdown",
   "id": "222a72f3",
   "metadata": {},
   "source": [
    "# A seguir tem-se o preço, de peças para carros em diferentes lojas de fornecedores. O X representa o preço da última loja pesquisada . 12 8 25 15 2 3 X Sabendo-se que a média aritmética dos preços foi de 10 reais, pode-se concluir que a mediana foi igual a *"
   ]
  },
  {
   "cell_type": "code",
   "execution_count": 44,
   "id": "305df372",
   "metadata": {},
   "outputs": [],
   "source": [
    "price = pd.Series([12, 8, 25, 15, 2, 3, 10])"
   ]
  },
  {
   "cell_type": "code",
   "execution_count": 53,
   "id": "56c49457",
   "metadata": {},
   "outputs": [
    {
     "data": {
      "text/plain": [
       "10"
      ]
     },
     "execution_count": 53,
     "metadata": {},
     "output_type": "execute_result"
    }
   ],
   "source": [
    "price_list = price.sort_values().tolist()\n",
    "prices = pd.Series(price_list)\n",
    "# mediana usando funcionalidade pronta\n",
    "price.median()\n",
    "# manual\n",
    "len_of_prices = len(prices)\n",
    "index_mediana = ((len_of_prices + 1) / 2) - 1\n",
    "prices[index_mediana]"
   ]
  },
  {
   "cell_type": "markdown",
   "id": "53c1f46f",
   "metadata": {},
   "source": [
    "# O gráfico de pizza a seguir mostra as respostas de uma amostra de 614 proprietários de pequenos negócios que foram indagados sobre sua presença no Facebook. Encontre a média, moda e mediana. *"
   ]
  },
  {
   "cell_type": "code",
   "execution_count": 55,
   "id": "4ae3b976",
   "metadata": {},
   "outputs": [],
   "source": [
    "answers = pd.Series([31, 141, 184, 258])"
   ]
  },
  {
   "cell_type": "code",
   "execution_count": 78,
   "id": "d0324fbf",
   "metadata": {},
   "outputs": [
    {
     "name": "stdout",
     "output_type": "stream",
     "text": [
      "media: 153.5\n",
      "moda: 258\n",
      "mediana: 162.5\n"
     ]
    }
   ],
   "source": [
    "# média\n",
    "mean = answers.sum() / len(answers)\n",
    "#moda\n",
    "mode = max(answers)\n",
    "# mediana\n",
    "len_of_answers = len(answers)\n",
    "index_mediana = ((len_of_answers) / 2) - 1\n",
    "median = (answers[index_mediana] + answers[index_mediana + 1]) / 2\n",
    "print(f'media: {mean}\\nmoda: {mode}\\nmediana: {median}')"
   ]
  },
  {
   "cell_type": "markdown",
   "id": "0ab7de16",
   "metadata": {},
   "source": [
    "# As notas, e seus percentuais na nota final, de um aluno de estatística são apresentados a seguir. Qual é a nota média do aluno? *"
   ]
  },
  {
   "cell_type": "code",
   "execution_count": 83,
   "id": "7f1b9fef",
   "metadata": {},
   "outputs": [],
   "source": [
    "data = {'nota': [85, 80, 100, 90, 93], 'percentual': [0.05, 0.35, 0.20, 0.15, 0.25]}\n",
    "notas = pd.DataFrame(data, \n",
    "                     [['dever de casa', 'testes', 'projeto', 'apresentações', 'prova final']])"
   ]
  },
  {
   "cell_type": "code",
   "execution_count": 103,
   "id": "021804c9",
   "metadata": {},
   "outputs": [],
   "source": [
    "final_grade = 0\n",
    "for i in range(0, 5):\n",
    "    final_grade += (notas.nota[i] * notas.percentual[i])"
   ]
  },
  {
   "cell_type": "code",
   "execution_count": 107,
   "id": "2232f679",
   "metadata": {},
   "outputs": [
    {
     "data": {
      "text/plain": [
       "89.0"
      ]
     },
     "execution_count": 107,
     "metadata": {},
     "output_type": "execute_result"
    }
   ],
   "source": [
    "final_grade / notas.percentual.sum()"
   ]
  },
  {
   "cell_type": "markdown",
   "id": "824bc35b",
   "metadata": {},
   "source": [
    "# A seguir tem-se os dados da distância percorrida na estrada (em km por litro) para 30 motocicletas. (s)Aproxime a média da distribuição de frequência. (b) Qual a classe modal? (b) Qual a classe mediana? *"
   ]
  },
  {
   "cell_type": "code",
   "execution_count": 110,
   "id": "0c964f7c",
   "metadata": {},
   "outputs": [
    {
     "data": {
      "text/html": [
       "<div>\n",
       "<style scoped>\n",
       "    .dataframe tbody tr th:only-of-type {\n",
       "        vertical-align: middle;\n",
       "    }\n",
       "\n",
       "    .dataframe tbody tr th {\n",
       "        vertical-align: top;\n",
       "    }\n",
       "\n",
       "    .dataframe thead th {\n",
       "        text-align: right;\n",
       "    }\n",
       "</style>\n",
       "<table border=\"1\" class=\"dataframe\">\n",
       "  <thead>\n",
       "    <tr style=\"text-align: right;\">\n",
       "      <th></th>\n",
       "      <th>frequencia</th>\n",
       "    </tr>\n",
       "  </thead>\n",
       "  <tbody>\n",
       "    <tr>\n",
       "      <th>29-33</th>\n",
       "      <td>11</td>\n",
       "    </tr>\n",
       "    <tr>\n",
       "      <th>34-38</th>\n",
       "      <td>12</td>\n",
       "    </tr>\n",
       "    <tr>\n",
       "      <th>39-43</th>\n",
       "      <td>2</td>\n",
       "    </tr>\n",
       "    <tr>\n",
       "      <th>44-48</th>\n",
       "      <td>5</td>\n",
       "    </tr>\n",
       "  </tbody>\n",
       "</table>\n",
       "</div>"
      ],
      "text/plain": [
       "       frequencia\n",
       "29-33          11\n",
       "34-38          12\n",
       "39-43           2\n",
       "44-48           5"
      ]
     },
     "execution_count": 110,
     "metadata": {},
     "output_type": "execute_result"
    }
   ],
   "source": [
    "distancia = pd.DataFrame({'frequencia': [11, 12, 2, 5]}, [['29-33', '34-38', '39-43', '44-48']])\n",
    "distancia"
   ]
  },
  {
   "cell_type": "code",
   "execution_count": 113,
   "id": "bb251c98",
   "metadata": {},
   "outputs": [
    {
     "data": {
      "text/plain": [
       "7.5"
      ]
     },
     "execution_count": 113,
     "metadata": {},
     "output_type": "execute_result"
    }
   ],
   "source": [
    "distancia.frequencia.sum() / distancia.frequencia.count()"
   ]
  }
 ],
 "metadata": {
  "kernelspec": {
   "display_name": "Python 3 (ipykernel)",
   "language": "python",
   "name": "python3"
  },
  "language_info": {
   "codemirror_mode": {
    "name": "ipython",
    "version": 3
   },
   "file_extension": ".py",
   "mimetype": "text/x-python",
   "name": "python",
   "nbconvert_exporter": "python",
   "pygments_lexer": "ipython3",
   "version": "3.8.6"
  }
 },
 "nbformat": 4,
 "nbformat_minor": 5
}
